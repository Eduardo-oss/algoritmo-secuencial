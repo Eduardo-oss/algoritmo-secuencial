{
  "nbformat": 4,
  "nbformat_minor": 0,
  "metadata": {
    "colab": {
      "name": "forG20.ipynb",
      "provenance": [],
      "authorship_tag": "ABX9TyPTBAk3h/sEUOK9WT+aF9kU",
      "include_colab_link": true
    },
    "kernelspec": {
      "name": "python3",
      "display_name": "Python 3"
    },
    "language_info": {
      "name": "python"
    }
  },
  "cells": [
    {
      "cell_type": "markdown",
      "metadata": {
        "id": "view-in-github",
        "colab_type": "text"
      },
      "source": [
        "<a href=\"https://colab.research.google.com/github/Eduardo-oss/algoritmo-secuencial/blob/master/forG20.ipynb\" target=\"_parent\"><img src=\"https://colab.research.google.com/assets/colab-badge.svg\" alt=\"Open In Colab\"/></a>"
      ]
    },
    {
      "cell_type": "markdown",
      "source": [
        "#Ciclo for : sabemos cuantas veces repetir"
      ],
      "metadata": {
        "id": "87lZYOEiMoHp"
      }
    },
    {
      "cell_type": "code",
      "execution_count": 1,
      "metadata": {
        "colab": {
          "base_uri": "https://localhost:8080/"
        },
        "id": "kOnvBYf9AZFm",
        "outputId": "cf6f7703-8a84-4e17-f7ab-bb7d90199b8e"
      },
      "outputs": [
        {
          "output_type": "stream",
          "name": "stdout",
          "text": [
            "1\n",
            "2\n",
            "3\n",
            "4\n",
            "5\n"
          ]
        }
      ],
      "source": [
        "for i in [1, 2, 3, 4, 5]:\n",
        "  \n",
        "  print(i)"
      ]
    },
    {
      "cell_type": "code",
      "source": [
        "#recorrer una lista\n",
        "coleccion = [True, [\"rodriguez\", \"ramirez\"], \"Jhonatan\", 1, 2, 3]\n",
        "\n",
        "for i in coleccion:\n",
        "  print (i)"
      ],
      "metadata": {
        "colab": {
          "base_uri": "https://localhost:8080/"
        },
        "id": "lLg72RvMAhE8",
        "outputId": "9684af9c-af93-40f0-f9d8-80fd65c2fa08"
      },
      "execution_count": 3,
      "outputs": [
        {
          "output_type": "stream",
          "name": "stdout",
          "text": [
            "True\n",
            "['rodriguez', 'ramirez']\n",
            "Jhonatan\n",
            "1\n",
            "2\n",
            "3\n"
          ]
        }
      ]
    },
    {
      "cell_type": "code",
      "source": [
        "#iterar strings\n",
        "coleccion = \"cincoVeces\"\n",
        "\n",
        "for i in coleccion:\n",
        "  print (i)"
      ],
      "metadata": {
        "colab": {
          "base_uri": "https://localhost:8080/"
        },
        "id": "cCqV6-GbA1Uj",
        "outputId": "64cd8e36-b7e3-45ee-adb2-76c8c3a798c9"
      },
      "execution_count": 2,
      "outputs": [
        {
          "output_type": "stream",
          "name": "stdout",
          "text": [
            "c\n",
            "i\n",
            "n\n",
            "c\n",
            "o\n",
            "V\n",
            "e\n",
            "c\n",
            "e\n",
            "s\n"
          ]
        }
      ]
    },
    {
      "cell_type": "code",
      "source": [
        "#espacio en blanco\n",
        "coleccion = \"Jhonathan\"\n",
        "\n",
        "for i in coleccion:\n",
        "  print (i, end = \" \")"
      ],
      "metadata": {
        "colab": {
          "base_uri": "https://localhost:8080/"
        },
        "id": "SYs7ypMKBUVU",
        "outputId": "c3766fac-6e53-459b-b0ee-9fbd627c2ece"
      },
      "execution_count": 5,
      "outputs": [
        {
          "output_type": "stream",
          "name": "stdout",
          "text": [
            "J h o n a t h a n "
          ]
        }
      ]
    },
    {
      "cell_type": "code",
      "source": [
        "#esin espacio en blanco\n",
        "coleccion = \"Jhonathan\"\n",
        "\n",
        "for i in coleccion:\n",
        "  print (i, end = \"\")"
      ],
      "metadata": {
        "colab": {
          "base_uri": "https://localhost:8080/"
        },
        "id": "emYbl7tIBzcz",
        "outputId": "13ff73d4-9767-498d-9c05-228dc411bec8"
      },
      "execution_count": 6,
      "outputs": [
        {
          "output_type": "stream",
          "name": "stdout",
          "text": [
            "Jhonathan"
          ]
        }
      ]
    },
    {
      "cell_type": "markdown",
      "source": [
        "#for tipo range: Pyhton nos facilita la vida"
      ],
      "metadata": {
        "id": "u7rqTykaCV83"
      }
    },
    {
      "cell_type": "code",
      "source": [
        "# repetir 25 veces con range\n",
        "for i in range(25):\n",
        "  print(\"Hola mundo\")\n"
      ],
      "metadata": {
        "colab": {
          "base_uri": "https://localhost:8080/"
        },
        "id": "04MJYmY-CZn1",
        "outputId": "bda4ca8b-5af7-46f9-c82d-7f0fdac9b3ed"
      },
      "execution_count": 15,
      "outputs": [
        {
          "output_type": "stream",
          "name": "stdout",
          "text": [
            "Hola mundo\n",
            "Hola mundo\n",
            "Hola mundo\n",
            "Hola mundo\n",
            "Hola mundo\n",
            "Hola mundo\n",
            "Hola mundo\n",
            "Hola mundo\n",
            "Hola mundo\n",
            "Hola mundo\n",
            "Hola mundo\n",
            "Hola mundo\n",
            "Hola mundo\n",
            "Hola mundo\n",
            "Hola mundo\n",
            "Hola mundo\n",
            "Hola mundo\n",
            "Hola mundo\n",
            "Hola mundo\n",
            "Hola mundo\n",
            "Hola mundo\n",
            "Hola mundo\n",
            "Hola mundo\n",
            "Hola mundo\n",
            "Hola mundo\n"
          ]
        }
      ]
    },
    {
      "cell_type": "code",
      "source": [
        "# repetir i 50 veces con range\n",
        "for i in range(50):\n",
        "  print(i+1)\n"
      ],
      "metadata": {
        "colab": {
          "base_uri": "https://localhost:8080/"
        },
        "id": "LpIStGyCDBC6",
        "outputId": "2071175d-3008-4adc-9df7-98b723f23478"
      },
      "execution_count": 9,
      "outputs": [
        {
          "output_type": "stream",
          "name": "stdout",
          "text": [
            "1\n",
            "2\n",
            "3\n",
            "4\n",
            "5\n",
            "6\n",
            "7\n",
            "8\n",
            "9\n",
            "10\n",
            "11\n",
            "12\n",
            "13\n",
            "14\n",
            "15\n",
            "16\n",
            "17\n",
            "18\n",
            "19\n",
            "20\n",
            "21\n",
            "22\n",
            "23\n",
            "24\n",
            "25\n",
            "26\n",
            "27\n",
            "28\n",
            "29\n",
            "30\n",
            "31\n",
            "32\n",
            "33\n",
            "34\n",
            "35\n",
            "36\n",
            "37\n",
            "38\n",
            "39\n",
            "40\n",
            "41\n",
            "42\n",
            "43\n",
            "44\n",
            "45\n",
            "46\n",
            "47\n",
            "48\n",
            "49\n",
            "50\n"
          ]
        }
      ]
    },
    {
      "cell_type": "code",
      "source": [
        "#for desde 5 hasta 10 \n",
        "for i in range(5 , 11):\n",
        "  print(i)"
      ],
      "metadata": {
        "colab": {
          "base_uri": "https://localhost:8080/"
        },
        "id": "JUPA_5ptDLri",
        "outputId": "bc4c3a90-5f0a-4d77-c000-3bd184a5f3d8"
      },
      "execution_count": 10,
      "outputs": [
        {
          "output_type": "stream",
          "name": "stdout",
          "text": [
            "5\n",
            "6\n",
            "7\n",
            "8\n",
            "9\n",
            "10\n"
          ]
        }
      ]
    },
    {
      "cell_type": "code",
      "source": [
        "#imprimir desde 2 hasta 2 saltando en dos\n",
        "for i in range(2 , 21):\n",
        "  if( i % 2 == 0): #si el modulo de la division es cero \n",
        "    print(i)"
      ],
      "metadata": {
        "colab": {
          "base_uri": "https://localhost:8080/"
        },
        "id": "O8WECXIODdhj",
        "outputId": "aa6efe59-f369-44a2-bbe1-4582a7db105f"
      },
      "execution_count": 12,
      "outputs": [
        {
          "output_type": "stream",
          "name": "stdout",
          "text": [
            "2\n",
            "4\n",
            "6\n",
            "8\n",
            "10\n",
            "12\n",
            "14\n",
            "16\n",
            "18\n",
            "20\n"
          ]
        }
      ]
    },
    {
      "cell_type": "code",
      "source": [
        "#imprimir desde 2 hasta 2 saltando en dos\n",
        "for i in range(2 , 21, 2):\n",
        "  print(i)"
      ],
      "metadata": {
        "colab": {
          "base_uri": "https://localhost:8080/"
        },
        "id": "YoQNKOo2D3-S",
        "outputId": "2a0f005b-76fe-4ef7-8d0c-0cab0c86ffc2"
      },
      "execution_count": 11,
      "outputs": [
        {
          "output_type": "stream",
          "name": "stdout",
          "text": [
            "2\n",
            "4\n",
            "6\n",
            "8\n",
            "10\n",
            "12\n",
            "14\n",
            "16\n",
            "18\n",
            "20\n"
          ]
        }
      ]
    },
    {
      "cell_type": "code",
      "source": [
        "#imprimir desde 20 hasta 2 saltando en dos\n",
        "for i in range(20 , 1, -2):\n",
        "  #if( i % 2 == 0): #si el modulo de la division es cero \n",
        "    print(i)"
      ],
      "metadata": {
        "colab": {
          "base_uri": "https://localhost:8080/"
        },
        "id": "GklsgqmhD_96",
        "outputId": "26df53b7-23e6-4a86-8877-32fae407bb81"
      },
      "execution_count": 14,
      "outputs": [
        {
          "output_type": "stream",
          "name": "stdout",
          "text": [
            "20\n",
            "18\n",
            "16\n",
            "14\n",
            "12\n",
            "10\n",
            "8\n",
            "6\n",
            "4\n",
            "2\n"
          ]
        }
      ]
    },
    {
      "cell_type": "code",
      "source": [
        "#usuario ingresa cantidad de asteriscos\n",
        "asteriscos = int (input(\"ingrese cantidad de * :\"))\n",
        "\n",
        "'''\n",
        "*\n",
        "**\n",
        "***\n",
        "****\n",
        "*****\n",
        "'''\n",
        "for i in range(asteriscos + 1):\n",
        "  print(i * \"*\") #multipicar cadena"
      ],
      "metadata": {
        "id": "WNpy9-DMEt0c"
      },
      "execution_count": null,
      "outputs": []
    },
    {
      "cell_type": "code",
      "source": [
        "#usuario ingresa cantidad de asteriscos\n",
        "asteriscos = int (input(\"ingrese cantidad de * :\"))\n",
        "\n",
        "'''\n",
        "*\n",
        "**\n",
        "***\n",
        "****\n",
        "*****\n",
        "'''\n",
        "for i in range(asteriscos):\n",
        "  print((i+1) * \"*\") #multipicar cadena"
      ],
      "metadata": {
        "id": "ol6WDNu2GMwU"
      },
      "execution_count": null,
      "outputs": []
    },
    {
      "cell_type": "code",
      "source": [
        "#usuario ingresa cantidad de asteriscos\n",
        "asteriscos = int (input(\"ingrese cantidad de * :\"))\n",
        "\n",
        "'''\n",
        "*\n",
        "**\n",
        "***\n",
        "****\n",
        "*****\n",
        "'''\n",
        "for i in range(1, asteriscos + 1):\n",
        "  print(i * \"*\") #multipicar cadena"
      ],
      "metadata": {
        "colab": {
          "base_uri": "https://localhost:8080/"
        },
        "id": "5gnLw_KNGSvy",
        "outputId": "ff87e284-6b66-486e-8851-52f0d0728bd4"
      },
      "execution_count": 16,
      "outputs": [
        {
          "output_type": "stream",
          "name": "stdout",
          "text": [
            "ingrese cantidad de * :7\n",
            "*\n",
            "**\n",
            "***\n",
            "****\n",
            "*****\n",
            "******\n",
            "*******\n"
          ]
        }
      ]
    },
    {
      "cell_type": "markdown",
      "source": [
        "#Instruccion continue y break, sirve para cualquier ciclo\n",
        "[Link break en w3schools](https://www.w3schools.com/python/ref_keyword_break.asp)"
      ],
      "metadata": {
        "id": "TSKyNIK1IL8H"
      }
    },
    {
      "cell_type": "code",
      "source": [
        "#instruccion break \n",
        "for i in range(10):\n",
        "  if i == 5 :\n",
        "    break #terminar o lo rompe; sirve para terminar un programa: chao y vayase! \n",
        "  print(i)"
      ],
      "metadata": {
        "colab": {
          "base_uri": "https://localhost:8080/"
        },
        "id": "MHT_igWbHfTi",
        "outputId": "2846feb8-76b8-4f20-e010-ec5931545009"
      },
      "execution_count": 17,
      "outputs": [
        {
          "output_type": "stream",
          "name": "stdout",
          "text": [
            "0\n",
            "1\n",
            "2\n",
            "3\n",
            "4\n"
          ]
        }
      ]
    },
    {
      "cell_type": "code",
      "source": [
        "dias = [\"L\", \"M\", \"Mi\", \"J\", \"V\"]\n",
        "for i in range(len(dias)):\n",
        "  if ( dias[i] == \"Mi\"):\n",
        "    break #rompa aqui\n",
        "  else:\n",
        "    print(dias[i])"
      ],
      "metadata": {
        "colab": {
          "base_uri": "https://localhost:8080/"
        },
        "id": "2uStetXxJGjL",
        "outputId": "5eaca60f-554b-4eda-8392-474298d6100d"
      },
      "execution_count": 19,
      "outputs": [
        {
          "output_type": "stream",
          "name": "stdout",
          "text": [
            "L\n",
            "M\n"
          ]
        }
      ]
    },
    {
      "cell_type": "code",
      "source": [
        "#instruccion continue\n",
        "for i in range(10):\n",
        "  if i == 5 :\n",
        "    continue #lo deja continuar\n",
        "  print(i)"
      ],
      "metadata": {
        "colab": {
          "base_uri": "https://localhost:8080/"
        },
        "id": "4USCNhxkH3XS",
        "outputId": "75e7e84e-637b-49c8-d0c8-216e16e05367"
      },
      "execution_count": 18,
      "outputs": [
        {
          "output_type": "stream",
          "name": "stdout",
          "text": [
            "0\n",
            "1\n",
            "2\n",
            "3\n",
            "4\n",
            "6\n",
            "7\n",
            "8\n",
            "9\n"
          ]
        }
      ]
    },
    {
      "cell_type": "code",
      "source": [
        "#instruccion continue \n",
        "for i in range(10):\n",
        "  if i == 5 :\n",
        "    continue #lo deja continuar\n",
        "\n",
        "  print(i)"
      ],
      "metadata": {
        "id": "dQh_MahqH9YL"
      },
      "execution_count": null,
      "outputs": []
    }
  ]
}